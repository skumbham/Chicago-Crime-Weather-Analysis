{
  "nbformat": 4,
  "nbformat_minor": 0,
  "metadata": {
    "colab": {
      "provenance": [],
      "mount_file_id": "14x65nyGQ-R2bx4JTHHvMrd3TJ1z2tqHM",
      "authorship_tag": "ABX9TyO8XxcMCY8vdE3zN/Pc/Ak5",
      "include_colab_link": true
    },
    "kernelspec": {
      "name": "python3",
      "display_name": "Python 3"
    },
    "language_info": {
      "name": "python"
    }
  },
  "cells": [
    {
      "cell_type": "markdown",
      "metadata": {
        "id": "view-in-github",
        "colab_type": "text"
      },
      "source": [
        "<a href=\"https://colab.research.google.com/github/skumbham/Chicago-Crime-Weather-Analysis/blob/main/BDA_Project_Code.ipynb\" target=\"_parent\"><img src=\"https://colab.research.google.com/assets/colab-badge.svg\" alt=\"Open In Colab\"/></a>"
      ]
    },
    {
      "cell_type": "code",
      "source": [
        "!pip install pyspark"
      ],
      "metadata": {
        "colab": {
          "base_uri": "https://localhost:8080/"
        },
        "id": "2CF7U9j4U-FG",
        "outputId": "b249e593-cded-4ae1-f7cf-7ee9fb22342b"
      },
      "execution_count": 2,
      "outputs": [
        {
          "output_type": "stream",
          "name": "stdout",
          "text": [
            "Collecting pyspark\n",
            "  Downloading pyspark-3.5.1.tar.gz (317.0 MB)\n",
            "\u001b[2K     \u001b[90m━━━━━━━━━━━━━━━━━━━━━━━━━━━━━━━━━━━━━━━━\u001b[0m \u001b[32m317.0/317.0 MB\u001b[0m \u001b[31m1.8 MB/s\u001b[0m eta \u001b[36m0:00:00\u001b[0m\n",
            "\u001b[?25h  Preparing metadata (setup.py) ... \u001b[?25l\u001b[?25hdone\n",
            "Requirement already satisfied: py4j==0.10.9.7 in /usr/local/lib/python3.10/dist-packages (from pyspark) (0.10.9.7)\n",
            "Building wheels for collected packages: pyspark\n",
            "  Building wheel for pyspark (setup.py) ... \u001b[?25l\u001b[?25hdone\n",
            "  Created wheel for pyspark: filename=pyspark-3.5.1-py2.py3-none-any.whl size=317488491 sha256=9ad50fe596dcda4782b8730204bbf57a78da21249096bfda5cb30d23ffe61ae2\n",
            "  Stored in directory: /root/.cache/pip/wheels/80/1d/60/2c256ed38dddce2fdd93be545214a63e02fbd8d74fb0b7f3a6\n",
            "Successfully built pyspark\n",
            "Installing collected packages: pyspark\n",
            "Successfully installed pyspark-3.5.1\n"
          ]
        }
      ]
    },
    {
      "cell_type": "markdown",
      "source": [
        "# Libraries Required"
      ],
      "metadata": {
        "id": "HHHdDGDIaYOK"
      }
    },
    {
      "cell_type": "code",
      "source": [
        "from pyspark.sql import SparkSession\n",
        "import pyspark.sql.functions as F\n",
        "from pyspark.sql.functions import to_date"
      ],
      "metadata": {
        "id": "5em_1ifAW-p2"
      },
      "execution_count": 3,
      "outputs": []
    },
    {
      "cell_type": "markdown",
      "source": [
        "# Loading the Datasets"
      ],
      "metadata": {
        "id": "r8lTq1B9aTJz"
      }
    },
    {
      "cell_type": "code",
      "execution_count": 4,
      "metadata": {
        "id": "b8ujcOMwU3u3"
      },
      "outputs": [],
      "source": [
        "spark = SparkSession.builder.appName(\"ChicagoCrimeWeatherAnalysis\").getOrCreate()"
      ]
    },
    {
      "cell_type": "code",
      "source": [
        "weather_df = spark.read.csv('/content/drive/MyDrive/ChicagoWeatherDataset.csv', header=True, inferSchema=True)\n",
        "crime_df = spark.read.csv('/content/drive/MyDrive/ChicagoCrimeDataset.csv', header=True, inferSchema=True)\n"
      ],
      "metadata": {
        "id": "cHFDw1jOVA5x"
      },
      "execution_count": 6,
      "outputs": []
    },
    {
      "cell_type": "code",
      "source": [
        "weather_df.printSchema()\n",
        "crime_df.printSchema()\n",
        "weather_df.show(5)\n",
        "crime_df.show(5)\n"
      ],
      "metadata": {
        "colab": {
          "base_uri": "https://localhost:8080/"
        },
        "id": "qdjslD0oVKPe",
        "outputId": "661468e9-1bf6-4fb6-c1b1-14671bce29a6"
      },
      "execution_count": 7,
      "outputs": [
        {
          "output_type": "stream",
          "name": "stdout",
          "text": [
            "root\n",
            " |-- name: string (nullable = true)\n",
            " |-- datetime: date (nullable = true)\n",
            " |-- tempmax: double (nullable = true)\n",
            " |-- tempmin: double (nullable = true)\n",
            " |-- temp: double (nullable = true)\n",
            " |-- feelslikemax: double (nullable = true)\n",
            " |-- feelslikemin: double (nullable = true)\n",
            " |-- feelslike: double (nullable = true)\n",
            " |-- dew: double (nullable = true)\n",
            " |-- humidity: double (nullable = true)\n",
            " |-- precip: double (nullable = true)\n",
            " |-- precipprob: integer (nullable = true)\n",
            " |-- precipcover: double (nullable = true)\n",
            " |-- preciptype: string (nullable = true)\n",
            " |-- snow: double (nullable = true)\n",
            " |-- snowdepth: double (nullable = true)\n",
            " |-- windgust: double (nullable = true)\n",
            " |-- windspeed: double (nullable = true)\n",
            " |-- winddir: double (nullable = true)\n",
            " |-- sealevelpressure: double (nullable = true)\n",
            " |-- cloudcover: double (nullable = true)\n",
            " |-- visibility: double (nullable = true)\n",
            " |-- solarradiation: double (nullable = true)\n",
            " |-- solarenergy: double (nullable = true)\n",
            " |-- uvindex: integer (nullable = true)\n",
            " |-- severerisk: integer (nullable = true)\n",
            " |-- sunrise: timestamp (nullable = true)\n",
            " |-- sunset: timestamp (nullable = true)\n",
            " |-- moonphase: double (nullable = true)\n",
            " |-- conditions: string (nullable = true)\n",
            " |-- description: string (nullable = true)\n",
            " |-- icon: string (nullable = true)\n",
            " |-- stations: string (nullable = true)\n",
            "\n",
            "root\n",
            " |-- ID: integer (nullable = true)\n",
            " |-- Case Number: string (nullable = true)\n",
            " |-- Date: string (nullable = true)\n",
            " |-- Block: string (nullable = true)\n",
            " |-- IUCR: string (nullable = true)\n",
            " |-- Primary Type: string (nullable = true)\n",
            " |-- Description: string (nullable = true)\n",
            " |-- Location Description: string (nullable = true)\n",
            " |-- Arrest: boolean (nullable = true)\n",
            " |-- Domestic: boolean (nullable = true)\n",
            " |-- Beat: integer (nullable = true)\n",
            " |-- District: integer (nullable = true)\n",
            " |-- Ward: integer (nullable = true)\n",
            " |-- Community Area: integer (nullable = true)\n",
            " |-- FBI Code: string (nullable = true)\n",
            " |-- X Coordinate: integer (nullable = true)\n",
            " |-- Y Coordinate: integer (nullable = true)\n",
            " |-- Year: integer (nullable = true)\n",
            " |-- Updated On: string (nullable = true)\n",
            " |-- Latitude: double (nullable = true)\n",
            " |-- Longitude: double (nullable = true)\n",
            " |-- Location: string (nullable = true)\n",
            " |-- Historical Wards 2003-2015: integer (nullable = true)\n",
            " |-- Zip Codes: integer (nullable = true)\n",
            " |-- Community Areas: integer (nullable = true)\n",
            " |-- Census Tracts: integer (nullable = true)\n",
            " |-- Wards: integer (nullable = true)\n",
            " |-- Boundaries - ZIP Codes: integer (nullable = true)\n",
            " |-- Police Districts: integer (nullable = true)\n",
            " |-- Police Beats: integer (nullable = true)\n",
            " |-- Wards 2023-: integer (nullable = true)\n",
            "\n",
            "+--------+----------+-------+-------+----+------------+------------+---------+----+--------+------+----------+-----------+----------+----+---------+--------+---------+-------+----------------+----------+----------+--------------+-----------+-------+----------+-------------------+-------------------+---------+--------------------+--------------------+----+--------------------+\n",
            "|    name|  datetime|tempmax|tempmin|temp|feelslikemax|feelslikemin|feelslike| dew|humidity|precip|precipprob|precipcover|preciptype|snow|snowdepth|windgust|windspeed|winddir|sealevelpressure|cloudcover|visibility|solarradiation|solarenergy|uvindex|severerisk|            sunrise|             sunset|moonphase|          conditions|         description|icon|            stations|\n",
            "+--------+----------+-------+-------+----+------------+------------+---------+----+--------+------+----------+-----------+----------+----+---------+--------+---------+-------+----------------+----------+----------+--------------+-----------+-------+----------+-------------------+-------------------+---------+--------------------+--------------------+----+--------------------+\n",
            "|Chicago,|2021-08-06|   82.1|   67.6|76.6|        84.0|        67.6|     77.2|62.3|    61.5| 0.204|       100|      29.17|      rain| 0.0|      0.0|    30.2|     16.8|  220.9|          1014.5|      85.9|       9.7|          69.3|        5.9|      3|      NULL|2021-08-06 05:49:39|2021-08-06 20:02:29|     0.94|Rain, Partially c...|Partly cloudy thr...|rain|72534014819,AP878...|\n",
            "|Chicago,|2021-08-07|   88.3|   67.4|78.4|        91.4|        67.4|     80.1|66.6|    69.0| 0.001|       100|       4.17|      rain| 0.0|      0.0|    20.8|     12.1|  205.2|          1013.9|      69.6|       9.6|          96.9|        8.3|      4|      NULL|2021-08-07 05:50:40|2021-08-07 20:01:12|     0.97|Rain, Partially c...|Partly cloudy thr...|rain|72534014819,AP878...|\n",
            "|Chicago,|2021-08-08|   91.3|   71.9|80.9|        94.9|        71.9|     82.4|67.7|    65.5|  0.05|       100|      20.83|      rain| 0.0|      0.0|    33.0|     18.9|  198.3|          1011.2|      74.2|       9.7|         103.0|        8.8|      7|      NULL|2021-08-08 05:51:42|2021-08-08 19:59:55|      0.0|Rain, Partially c...|Partly cloudy thr...|rain|72534014819,AP878...|\n",
            "|Chicago,|2021-08-09|   81.5|   71.8|75.9|        85.9|        71.8|     76.5|68.7|    78.6| 0.313|       100|       37.5|      rain| 0.0|      0.0|    29.5|     16.5|  192.6|          1010.1|      89.9|       9.6|          29.3|        2.4|      1|      NULL|2021-08-09 05:52:43|2021-08-09 19:58:36|     0.04|Rain, Partially c...|Partly cloudy thr...|rain|72534014819,AP878...|\n",
            "|Chicago,|2021-08-10|   92.9|   72.6|81.8|       105.1|        72.6|     86.7|72.5|    74.5| 0.566|       100|      16.67|      rain| 0.0|      0.0|    49.7|     31.0|  230.0|          1011.2|      82.6|       9.4|          73.9|        6.4|      4|      NULL|2021-08-10 05:53:45|2021-08-10 19:57:15|     0.08|Rain, Partially c...|Partly cloudy thr...|rain|72534014819,AP878...|\n",
            "+--------+----------+-------+-------+----+------------+------------+---------+----+--------+------+----------+-----------+----------+----+---------+--------+---------+-------+----------------+----------+----------+--------------+-----------+-------+----------+-------------------+-------------------+---------+--------------------+--------------------+----+--------------------+\n",
            "only showing top 5 rows\n",
            "\n",
            "+--------+-----------+-------------+--------------------+----+------------------+--------------------+--------------------+------+--------+----+--------+----+--------------+--------+------------+------------+----+---------------+-----------+------------+--------------------+--------------------------+---------+---------------+-------------+-----+----------------------+----------------+------------+-----------+\n",
            "|      ID|Case Number|         Date|               Block|IUCR|      Primary Type|         Description|Location Description|Arrest|Domestic|Beat|District|Ward|Community Area|FBI Code|X Coordinate|Y Coordinate|Year|     Updated On|   Latitude|   Longitude|            Location|Historical Wards 2003-2015|Zip Codes|Community Areas|Census Tracts|Wards|Boundaries - ZIP Codes|Police Districts|Police Beats|Wards 2023-|\n",
            "+--------+-----------+-------------+--------------------+----+------------------+--------------------+--------------------+------+--------+----+--------+----+--------------+--------+------------+------------+----+---------------+-----------+------------+--------------------+--------------------------+---------+---------------+-------------+-----+----------------------+----------------+------------+-----------+\n",
            "|12445731|   JE328821|8/6/2021 0:00|070XX S PRINCETON...|051A|           ASSAULT|AGGRAVATED - HANDGUN|              STREET| false|   false| 731|       7|   6|            69|     04A|     1175517|     1858054|2021|8/13/2021 15:40|41.76587178|-87.63222756|(41.765871777, -8...|                        31|    21559|             67|          513|   32|                    11|              17|         210|          4|\n",
            "|12449835|   JE333616|8/6/2021 0:00|  081XX S VERNON AVE|1154|DECEPTIVE PRACTICE|FINANCIAL IDENTIT...|              STREET| false|   false| 631|       6|   6|            44|      11|     1180656|     1851188|2021|8/13/2021 15:40|41.74691424|-87.61360206|(41.74691424, -87...|                        31|    21546|             40|           11|   32|                    61|              20|         235|          4|\n",
            "|12449164|   JE333005|8/6/2021 0:00|007XX N SACRAMENT...| 810|             THEFT|           OVER $500|PARKING LOT / GAR...| false|   false|1221|      12|  27|            23|       6|     1156097|     1904592|2021|8/13/2021 15:40|41.89399011|-87.70215558|(41.893990113, -8...|                        41|    21184|             24|          177|   46|                    28|              15|          80|         27|\n",
            "|12446198|   JE329359|8/6/2021 0:00|     031XX W 45TH ST| 820|             THEFT|      $500 AND UNDER|              STREET| false|   false| 922|       9|  14|            58|       6|     1155984|     1874629|2021|8/13/2021 15:40|41.81177055|-87.70337791|(41.811770552, -8...|                        49|    22248|             55|          156|    8|                    56|              23|         115|         12|\n",
            "|12445024|   JE328019|8/6/2021 0:00| 055XX S EVERETT AVE| 890|             THEFT|       FROM BUILDING|           APARTMENT| false|   false| 235|       2|   5|            41|       6|     1188987|     1868573|2021|8/13/2021 15:40|41.79442484|-87.58251941|(41.794424835, -8...|                        32|    22260|              8|          502|   33|                    60|              24|         132|          3|\n",
            "+--------+-----------+-------------+--------------------+----+------------------+--------------------+--------------------+------+--------+----+--------+----+--------------+--------+------------+------------+----+---------------+-----------+------------+--------------------+--------------------------+---------+---------------+-------------+-----+----------------------+----------------+------------+-----------+\n",
            "only showing top 5 rows\n",
            "\n"
          ]
        }
      ]
    },
    {
      "cell_type": "code",
      "source": [
        "from pyspark.sql.functions import col\n",
        "\n",
        "# Remove rows with any null values in the crime DataFrame\n",
        "crime_df = crime_df.dropna(how='any')\n",
        "\n",
        "# For the weather DataFrame, replace null values in specific columns that make sense\n",
        "# Assuming columns like 'precip', 'snow', 'snowdepth' can have nulls replaced with 0\n",
        "# You should review each column to decide the appropriate action\n",
        "weather_columns_with_zeros = ['precip', 'snow', 'snowdepth', 'windgust']  # Add other relevant columns\n",
        "for column in weather_columns_with_zeros:\n",
        "    weather_df = weather_df.na.fill({column: 0})\n",
        "\n",
        "# Continue with data processing and merging as before\n"
      ],
      "metadata": {
        "id": "HeYjcDimcqag"
      },
      "execution_count": 8,
      "outputs": []
    },
    {
      "cell_type": "markdown",
      "source": [
        "# Convert - Combine"
      ],
      "metadata": {
        "id": "134OQX3PaNqX"
      }
    },
    {
      "cell_type": "code",
      "source": [
        "weather_df = weather_df.withColumn(\"date\", to_date(\"datetime\", \"MM/dd/yyyy\"))\n",
        "crime_df = crime_df.withColumn(\"date\", to_date(\"Date\", \"M/d/yyyy H:mm\"))"
      ],
      "metadata": {
        "id": "xUaUnWZ3VsOS"
      },
      "execution_count": 9,
      "outputs": []
    },
    {
      "cell_type": "code",
      "source": [
        "combined_df = crime_df.join(weather_df, \"date\")"
      ],
      "metadata": {
        "id": "psP5pKeWXV9E"
      },
      "execution_count": 10,
      "outputs": []
    },
    {
      "cell_type": "code",
      "source": [
        "combined_df.printSchema()"
      ],
      "metadata": {
        "colab": {
          "base_uri": "https://localhost:8080/"
        },
        "id": "jxhNPizzXchn",
        "outputId": "773ce0b8-3b82-4cd6-8b97-02fa997c5305"
      },
      "execution_count": 11,
      "outputs": [
        {
          "output_type": "stream",
          "name": "stdout",
          "text": [
            "root\n",
            " |-- date: date (nullable = true)\n",
            " |-- ID: integer (nullable = true)\n",
            " |-- Case Number: string (nullable = true)\n",
            " |-- Block: string (nullable = true)\n",
            " |-- IUCR: string (nullable = true)\n",
            " |-- Primary Type: string (nullable = true)\n",
            " |-- Description: string (nullable = true)\n",
            " |-- Location Description: string (nullable = true)\n",
            " |-- Arrest: boolean (nullable = true)\n",
            " |-- Domestic: boolean (nullable = true)\n",
            " |-- Beat: integer (nullable = true)\n",
            " |-- District: integer (nullable = true)\n",
            " |-- Ward: integer (nullable = true)\n",
            " |-- Community Area: integer (nullable = true)\n",
            " |-- FBI Code: string (nullable = true)\n",
            " |-- X Coordinate: integer (nullable = true)\n",
            " |-- Y Coordinate: integer (nullable = true)\n",
            " |-- Year: integer (nullable = true)\n",
            " |-- Updated On: string (nullable = true)\n",
            " |-- Latitude: double (nullable = true)\n",
            " |-- Longitude: double (nullable = true)\n",
            " |-- Location: string (nullable = true)\n",
            " |-- Historical Wards 2003-2015: integer (nullable = true)\n",
            " |-- Zip Codes: integer (nullable = true)\n",
            " |-- Community Areas: integer (nullable = true)\n",
            " |-- Census Tracts: integer (nullable = true)\n",
            " |-- Wards: integer (nullable = true)\n",
            " |-- Boundaries - ZIP Codes: integer (nullable = true)\n",
            " |-- Police Districts: integer (nullable = true)\n",
            " |-- Police Beats: integer (nullable = true)\n",
            " |-- Wards 2023-: integer (nullable = true)\n",
            " |-- name: string (nullable = true)\n",
            " |-- datetime: date (nullable = true)\n",
            " |-- tempmax: double (nullable = true)\n",
            " |-- tempmin: double (nullable = true)\n",
            " |-- temp: double (nullable = true)\n",
            " |-- feelslikemax: double (nullable = true)\n",
            " |-- feelslikemin: double (nullable = true)\n",
            " |-- feelslike: double (nullable = true)\n",
            " |-- dew: double (nullable = true)\n",
            " |-- humidity: double (nullable = true)\n",
            " |-- precip: double (nullable = false)\n",
            " |-- precipprob: integer (nullable = true)\n",
            " |-- precipcover: double (nullable = true)\n",
            " |-- preciptype: string (nullable = true)\n",
            " |-- snow: double (nullable = false)\n",
            " |-- snowdepth: double (nullable = false)\n",
            " |-- windgust: double (nullable = false)\n",
            " |-- windspeed: double (nullable = true)\n",
            " |-- winddir: double (nullable = true)\n",
            " |-- sealevelpressure: double (nullable = true)\n",
            " |-- cloudcover: double (nullable = true)\n",
            " |-- visibility: double (nullable = true)\n",
            " |-- solarradiation: double (nullable = true)\n",
            " |-- solarenergy: double (nullable = true)\n",
            " |-- uvindex: integer (nullable = true)\n",
            " |-- severerisk: integer (nullable = true)\n",
            " |-- sunrise: timestamp (nullable = true)\n",
            " |-- sunset: timestamp (nullable = true)\n",
            " |-- moonphase: double (nullable = true)\n",
            " |-- conditions: string (nullable = true)\n",
            " |-- description: string (nullable = true)\n",
            " |-- icon: string (nullable = true)\n",
            " |-- stations: string (nullable = true)\n",
            "\n"
          ]
        }
      ]
    },
    {
      "cell_type": "code",
      "source": [
        "combined_df.show(5)"
      ],
      "metadata": {
        "colab": {
          "base_uri": "https://localhost:8080/"
        },
        "id": "W2lW3Lb5Xgj4",
        "outputId": "9815077d-fc9b-4258-fa70-ba1c9f2b9c8d"
      },
      "execution_count": 12,
      "outputs": [
        {
          "output_type": "stream",
          "name": "stdout",
          "text": [
            "+----------+--------+-----------+--------------------+----+------------------+--------------------+--------------------+------+--------+----+--------+----+--------------+--------+------------+------------+----+---------------+-----------+------------+--------------------+--------------------------+---------+---------------+-------------+-----+----------------------+----------------+------------+-----------+--------+----------+-------+-------+----+------------+------------+---------+----+--------+------+----------+-----------+----------+----+---------+--------+---------+-------+----------------+----------+----------+--------------+-----------+-------+----------+-------------------+-------------------+---------+--------------------+--------------------+----+--------------------+\n",
            "|      date|      ID|Case Number|               Block|IUCR|      Primary Type|         Description|Location Description|Arrest|Domestic|Beat|District|Ward|Community Area|FBI Code|X Coordinate|Y Coordinate|Year|     Updated On|   Latitude|   Longitude|            Location|Historical Wards 2003-2015|Zip Codes|Community Areas|Census Tracts|Wards|Boundaries - ZIP Codes|Police Districts|Police Beats|Wards 2023-|    name|  datetime|tempmax|tempmin|temp|feelslikemax|feelslikemin|feelslike| dew|humidity|precip|precipprob|precipcover|preciptype|snow|snowdepth|windgust|windspeed|winddir|sealevelpressure|cloudcover|visibility|solarradiation|solarenergy|uvindex|severerisk|            sunrise|             sunset|moonphase|          conditions|         description|icon|            stations|\n",
            "+----------+--------+-----------+--------------------+----+------------------+--------------------+--------------------+------+--------+----+--------+----+--------------+--------+------------+------------+----+---------------+-----------+------------+--------------------+--------------------------+---------+---------------+-------------+-----+----------------------+----------------+------------+-----------+--------+----------+-------+-------+----+------------+------------+---------+----+--------+------+----------+-----------+----------+----+---------+--------+---------+-------+----------------+----------+----------+--------------+-----------+-------+----------+-------------------+-------------------+---------+--------------------+--------------------+----+--------------------+\n",
            "|2021-08-06|12445731|   JE328821|070XX S PRINCETON...|051A|           ASSAULT|AGGRAVATED - HANDGUN|              STREET| false|   false| 731|       7|   6|            69|     04A|     1175517|     1858054|2021|8/13/2021 15:40|41.76587178|-87.63222756|(41.765871777, -8...|                        31|    21559|             67|          513|   32|                    11|              17|         210|          4|Chicago,|2021-08-06|   82.1|   67.6|76.6|        84.0|        67.6|     77.2|62.3|    61.5| 0.204|       100|      29.17|      rain| 0.0|      0.0|    30.2|     16.8|  220.9|          1014.5|      85.9|       9.7|          69.3|        5.9|      3|      NULL|2021-08-06 05:49:39|2021-08-06 20:02:29|     0.94|Rain, Partially c...|Partly cloudy thr...|rain|72534014819,AP878...|\n",
            "|2021-08-06|12449835|   JE333616|  081XX S VERNON AVE|1154|DECEPTIVE PRACTICE|FINANCIAL IDENTIT...|              STREET| false|   false| 631|       6|   6|            44|      11|     1180656|     1851188|2021|8/13/2021 15:40|41.74691424|-87.61360206|(41.74691424, -87...|                        31|    21546|             40|           11|   32|                    61|              20|         235|          4|Chicago,|2021-08-06|   82.1|   67.6|76.6|        84.0|        67.6|     77.2|62.3|    61.5| 0.204|       100|      29.17|      rain| 0.0|      0.0|    30.2|     16.8|  220.9|          1014.5|      85.9|       9.7|          69.3|        5.9|      3|      NULL|2021-08-06 05:49:39|2021-08-06 20:02:29|     0.94|Rain, Partially c...|Partly cloudy thr...|rain|72534014819,AP878...|\n",
            "|2021-08-06|12449164|   JE333005|007XX N SACRAMENT...| 810|             THEFT|           OVER $500|PARKING LOT / GAR...| false|   false|1221|      12|  27|            23|       6|     1156097|     1904592|2021|8/13/2021 15:40|41.89399011|-87.70215558|(41.893990113, -8...|                        41|    21184|             24|          177|   46|                    28|              15|          80|         27|Chicago,|2021-08-06|   82.1|   67.6|76.6|        84.0|        67.6|     77.2|62.3|    61.5| 0.204|       100|      29.17|      rain| 0.0|      0.0|    30.2|     16.8|  220.9|          1014.5|      85.9|       9.7|          69.3|        5.9|      3|      NULL|2021-08-06 05:49:39|2021-08-06 20:02:29|     0.94|Rain, Partially c...|Partly cloudy thr...|rain|72534014819,AP878...|\n",
            "|2021-08-06|12446198|   JE329359|     031XX W 45TH ST| 820|             THEFT|      $500 AND UNDER|              STREET| false|   false| 922|       9|  14|            58|       6|     1155984|     1874629|2021|8/13/2021 15:40|41.81177055|-87.70337791|(41.811770552, -8...|                        49|    22248|             55|          156|    8|                    56|              23|         115|         12|Chicago,|2021-08-06|   82.1|   67.6|76.6|        84.0|        67.6|     77.2|62.3|    61.5| 0.204|       100|      29.17|      rain| 0.0|      0.0|    30.2|     16.8|  220.9|          1014.5|      85.9|       9.7|          69.3|        5.9|      3|      NULL|2021-08-06 05:49:39|2021-08-06 20:02:29|     0.94|Rain, Partially c...|Partly cloudy thr...|rain|72534014819,AP878...|\n",
            "|2021-08-06|12445024|   JE328019| 055XX S EVERETT AVE| 890|             THEFT|       FROM BUILDING|           APARTMENT| false|   false| 235|       2|   5|            41|       6|     1188987|     1868573|2021|8/13/2021 15:40|41.79442484|-87.58251941|(41.794424835, -8...|                        32|    22260|              8|          502|   33|                    60|              24|         132|          3|Chicago,|2021-08-06|   82.1|   67.6|76.6|        84.0|        67.6|     77.2|62.3|    61.5| 0.204|       100|      29.17|      rain| 0.0|      0.0|    30.2|     16.8|  220.9|          1014.5|      85.9|       9.7|          69.3|        5.9|      3|      NULL|2021-08-06 05:49:39|2021-08-06 20:02:29|     0.94|Rain, Partially c...|Partly cloudy thr...|rain|72534014819,AP878...|\n",
            "+----------+--------+-----------+--------------------+----+------------------+--------------------+--------------------+------+--------+----+--------+----+--------------+--------+------------+------------+----+---------------+-----------+------------+--------------------+--------------------------+---------+---------------+-------------+-----+----------------------+----------------+------------+-----------+--------+----------+-------+-------+----+------------+------------+---------+----+--------+------+----------+-----------+----------+----+---------+--------+---------+-------+----------------+----------+----------+--------------+-----------+-------+----------+-------------------+-------------------+---------+--------------------+--------------------+----+--------------------+\n",
            "only showing top 5 rows\n",
            "\n"
          ]
        }
      ]
    },
    {
      "cell_type": "markdown",
      "source": [
        "# Exploratory Data Analysis (EDA)"
      ],
      "metadata": {
        "id": "0wFKgGBkaE_y"
      }
    },
    {
      "cell_type": "code",
      "source": [
        "# 1. Crime Distribution Analysis\n",
        "crime_distribution = combined_df.groupBy('Primary Type').count().orderBy('count', ascending=False)\n",
        "crime_distribution.show()\n"
      ],
      "metadata": {
        "colab": {
          "base_uri": "https://localhost:8080/"
        },
        "id": "OrZRSuGQZvlW",
        "outputId": "eff1938b-f14f-4c82-da32-9a4ec87d0ce6"
      },
      "execution_count": 13,
      "outputs": [
        {
          "output_type": "stream",
          "name": "stdout",
          "text": [
            "+--------------------+------+\n",
            "|        Primary Type| count|\n",
            "+--------------------+------+\n",
            "|               THEFT|135721|\n",
            "|             BATTERY|107345|\n",
            "|     CRIMINAL DAMAGE| 71022|\n",
            "| MOTOR VEHICLE THEFT| 58604|\n",
            "|             ASSAULT| 54738|\n",
            "|       OTHER OFFENSE| 37536|\n",
            "|  DECEPTIVE PRACTICE| 36071|\n",
            "|             ROBBERY| 25051|\n",
            "|   WEAPONS VIOLATION| 21905|\n",
            "|            BURGLARY| 19240|\n",
            "|           NARCOTICS| 11210|\n",
            "|   CRIMINAL TRESPASS| 10987|\n",
            "|OFFENSE INVOLVING...|  4392|\n",
            "|CRIMINAL SEXUAL A...|  3826|\n",
            "|         SEX OFFENSE|  3041|\n",
            "|PUBLIC PEACE VIOL...|  1920|\n",
            "|            HOMICIDE|  1746|\n",
            "|               ARSON|  1206|\n",
            "|INTERFERENCE WITH...|  1186|\n",
            "|            STALKING|  1137|\n",
            "+--------------------+------+\n",
            "only showing top 20 rows\n",
            "\n"
          ]
        }
      ]
    },
    {
      "cell_type": "code",
      "source": [
        "# 2. Weather vs. Crime Rate Analysis\n",
        "# For simplicity, let's consider analyzing temperature and crime rates.\n",
        "# You can replace or add more weather conditions for a detailed analysis.\n",
        "temperature_crime_rate = combined_df.groupBy('temp').count().orderBy('temp')\n",
        "temperature_crime_rate.show()"
      ],
      "metadata": {
        "colab": {
          "base_uri": "https://localhost:8080/"
        },
        "id": "7bSIPGZeaeQ0",
        "outputId": "58397e13-ef9e-462d-9477-e108b4606b6d"
      },
      "execution_count": 14,
      "outputs": [
        {
          "output_type": "stream",
          "name": "stdout",
          "text": [
            "+----+-----+\n",
            "|temp|count|\n",
            "+----+-----+\n",
            "|-5.7|  386|\n",
            "|-4.3|  406|\n",
            "|-3.8|  466|\n",
            "| 0.7|  465|\n",
            "| 4.4|  478|\n",
            "| 6.2|  384|\n",
            "| 7.2|  526|\n",
            "| 7.7|  629|\n",
            "| 8.0|  467|\n",
            "| 8.7|  408|\n",
            "| 8.8|  481|\n",
            "|11.2|  468|\n",
            "|11.6| 1092|\n",
            "|12.4| 1110|\n",
            "|12.5|  523|\n",
            "|13.6|  494|\n",
            "|13.7|  480|\n",
            "|13.9|  447|\n",
            "|16.0|  468|\n",
            "|16.8|  479|\n",
            "+----+-----+\n",
            "only showing top 20 rows\n",
            "\n"
          ]
        }
      ]
    },
    {
      "cell_type": "code",
      "source": [
        "# 3. Specific Crime Types and Weather Conditions\n",
        "# Analyzing a specific type of crime (e.g., 'ASSAULT') against temperature\n",
        "assault_weather_analysis = combined_df.filter(combined_df['Primary Type'] == 'ASSAULT').groupBy('temp').count().orderBy('temp')\n",
        "assault_weather_analysis.show()"
      ],
      "metadata": {
        "colab": {
          "base_uri": "https://localhost:8080/"
        },
        "id": "45UECWc1aoIV",
        "outputId": "563918b4-3fbb-47f4-c90b-8a7dcd11a401"
      },
      "execution_count": 15,
      "outputs": [
        {
          "output_type": "stream",
          "name": "stdout",
          "text": [
            "+----+-----+\n",
            "|temp|count|\n",
            "+----+-----+\n",
            "|-5.7|   35|\n",
            "|-4.3|   25|\n",
            "|-3.8|   43|\n",
            "| 0.7|   51|\n",
            "| 4.4|   44|\n",
            "| 6.2|   28|\n",
            "| 7.2|   51|\n",
            "| 7.7|   41|\n",
            "| 8.0|   44|\n",
            "| 8.7|   41|\n",
            "| 8.8|   45|\n",
            "|11.2|   40|\n",
            "|11.6|   91|\n",
            "|12.4|  108|\n",
            "|12.5|   50|\n",
            "|13.6|   41|\n",
            "|13.7|   40|\n",
            "|13.9|   39|\n",
            "|16.0|   51|\n",
            "|16.8|   39|\n",
            "+----+-----+\n",
            "only showing top 20 rows\n",
            "\n"
          ]
        }
      ]
    },
    {
      "cell_type": "code",
      "source": [
        "# 4. Visualization (Considering you will execute this in an environment supporting visualization like Jupyter)\n",
        "import matplotlib.pyplot as plt\n",
        "\n",
        "# Example visualization: Crime distribution\n",
        "# Convert the Spark DataFrame to Pandas for visualization\n",
        "crime_distribution_pd = crime_distribution.toPandas()\n",
        "\n",
        "# Plotting\n",
        "plt.figure(figsize=(10, 6))\n",
        "crime_distribution_pd.plot(kind='bar', x='Primary Type', y='count', legend=None)\n",
        "plt.title('Crime Distribution')\n",
        "plt.ylabel('Number of Incidents')\n",
        "plt.xlabel('Crime Type')\n",
        "plt.tight_layout()\n",
        "plt.show()\n"
      ],
      "metadata": {
        "colab": {
          "base_uri": "https://localhost:8080/",
          "height": 504
        },
        "id": "2v3JQry2asEl",
        "outputId": "411c522f-23f7-49a2-9b55-2113b93c881c"
      },
      "execution_count": 16,
      "outputs": [
        {
          "output_type": "display_data",
          "data": {
            "text/plain": [
              "<Figure size 1000x600 with 0 Axes>"
            ]
          },
          "metadata": {}
        },
        {
          "output_type": "display_data",
          "data": {
            "text/plain": [
              "<Figure size 640x480 with 1 Axes>"
            ],
            "image/png": "[encoded data removed]"
          },
          "metadata": {}
        }
      ]
    },
    {
      "cell_type": "code",
      "source": [
        "# Analyze crime distribution\n",
        "crime_distribution = combined_df.groupBy('Primary Type').count().orderBy('count', ascending=False)\n",
        "\n",
        "# Weather impact on overall crime rates\n",
        "weather_impact = combined_df.groupBy('date', 'temp', 'precip', 'humidity').count().orderBy('date')\n",
        "\n",
        "# Analyze specific crime types vs. weather\n",
        "specific_crime_weather = combined_df.filter(combined_df['Primary Type'] == 'THEFT').groupBy('date', 'temp').count().orderBy('date')\n",
        "\n",
        "# Display the results\n",
        "crime_distribution.show()"
      ],
      "metadata": {
        "colab": {
          "base_uri": "https://localhost:8080/"
        },
        "id": "lBrWUN9rbGDY",
        "outputId": "fcb11b5e-5820-4afb-a5aa-1db5c6cd8354"
      },
      "execution_count": 17,
      "outputs": [
        {
          "output_type": "stream",
          "name": "stdout",
          "text": [
            "+--------------------+------+\n",
            "|        Primary Type| count|\n",
            "+--------------------+------+\n",
            "|               THEFT|135721|\n",
            "|             BATTERY|107345|\n",
            "|     CRIMINAL DAMAGE| 71022|\n",
            "| MOTOR VEHICLE THEFT| 58604|\n",
            "|             ASSAULT| 54738|\n",
            "|       OTHER OFFENSE| 37536|\n",
            "|  DECEPTIVE PRACTICE| 36071|\n",
            "|             ROBBERY| 25051|\n",
            "|   WEAPONS VIOLATION| 21905|\n",
            "|            BURGLARY| 19240|\n",
            "|           NARCOTICS| 11210|\n",
            "|   CRIMINAL TRESPASS| 10987|\n",
            "|OFFENSE INVOLVING...|  4392|\n",
            "|CRIMINAL SEXUAL A...|  3826|\n",
            "|         SEX OFFENSE|  3041|\n",
            "|PUBLIC PEACE VIOL...|  1920|\n",
            "|            HOMICIDE|  1746|\n",
            "|               ARSON|  1206|\n",
            "|INTERFERENCE WITH...|  1186|\n",
            "|            STALKING|  1137|\n",
            "+--------------------+------+\n",
            "only showing top 20 rows\n",
            "\n"
          ]
        }
      ]
    },
    {
      "cell_type": "code",
      "source": [
        "weather_impact.show()"
      ],
      "metadata": {
        "colab": {
          "base_uri": "https://localhost:8080/"
        },
        "id": "p3R5tin7QN4A",
        "outputId": "ebb9cac8-0c2f-446c-b2e5-bdce7aff4958"
      },
      "execution_count": 18,
      "outputs": [
        {
          "output_type": "stream",
          "name": "stdout",
          "text": [
            "+----------+----+------+--------+-----+\n",
            "|      date|temp|precip|humidity|count|\n",
            "+----------+----+------+--------+-----+\n",
            "|2021-08-06|76.6| 0.204|    61.5|  576|\n",
            "|2021-08-07|78.4| 0.001|    69.0|  592|\n",
            "|2021-08-08|80.9|  0.05|    65.5|  607|\n",
            "|2021-08-09|75.9| 0.313|    78.6|  554|\n",
            "|2021-08-10|81.8| 0.566|    74.5|  515|\n",
            "|2021-08-11|80.4| 0.081|    72.7|  539|\n",
            "|2021-08-12|78.8| 0.008|    71.0|  516|\n",
            "|2021-08-13|75.9|   0.0|    57.0|  548|\n",
            "|2021-08-14|72.9|   0.0|    48.2|  600|\n",
            "|2021-08-15|71.5|   0.0|    53.9|  587|\n",
            "|2021-08-16|72.6|   0.0|    56.0|  580|\n",
            "|2021-08-17|75.4|   0.0|    67.5|  572|\n",
            "|2021-08-18|78.5|   0.0|    72.9|  500|\n",
            "|2021-08-19|79.1| 0.014|    72.0|  543|\n",
            "|2021-08-20|80.7|   0.0|    66.9|  591|\n",
            "|2021-08-21|79.9| 0.184|    70.5|  658|\n",
            "|2021-08-22|76.2|   0.0|    67.5|  596|\n",
            "|2021-08-23|78.2|   0.0|    66.9|  610|\n",
            "|2021-08-24|82.2| 0.764|    70.7|  540|\n",
            "|2021-08-25|79.7|  0.28|    72.4|  547|\n",
            "+----------+----+------+--------+-----+\n",
            "only showing top 20 rows\n",
            "\n"
          ]
        }
      ]
    },
    {
      "cell_type": "code",
      "source": [
        "specific_crime_weather.show()"
      ],
      "metadata": {
        "colab": {
          "base_uri": "https://localhost:8080/"
        },
        "id": "wf_-0MuPQSFM",
        "outputId": "3445b7bb-dc86-4378-bacb-7d15ea942540"
      },
      "execution_count": 19,
      "outputs": [
        {
          "output_type": "stream",
          "name": "stdout",
          "text": [
            "+----------+----+-----+\n",
            "|      date|temp|count|\n",
            "+----------+----+-----+\n",
            "|2021-08-06|76.6|  106|\n",
            "|2021-08-07|78.4|  126|\n",
            "|2021-08-08|80.9|  103|\n",
            "|2021-08-09|75.9|  113|\n",
            "|2021-08-10|81.8|   94|\n",
            "|2021-08-11|80.4|  116|\n",
            "|2021-08-12|78.8|  115|\n",
            "|2021-08-13|75.9|  124|\n",
            "|2021-08-14|72.9|  117|\n",
            "|2021-08-15|71.5|   98|\n",
            "|2021-08-16|72.6|  119|\n",
            "|2021-08-17|75.4|  110|\n",
            "|2021-08-18|78.5|  108|\n",
            "|2021-08-19|79.1|  132|\n",
            "|2021-08-20|80.7|  142|\n",
            "|2021-08-21|79.9|  140|\n",
            "|2021-08-22|76.2|  132|\n",
            "|2021-08-23|78.2|  121|\n",
            "|2021-08-24|82.2|  119|\n",
            "|2021-08-25|79.7|  130|\n",
            "+----------+----+-----+\n",
            "only showing top 20 rows\n",
            "\n"
          ]
        }
      ]
    }
  ]
}